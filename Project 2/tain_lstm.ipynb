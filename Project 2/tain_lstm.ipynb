{
 "cells": [
  {
   "cell_type": "code",
   "execution_count": 1,
   "id": "db4109cb",
   "metadata": {},
   "outputs": [],
   "source": [
    "from dataset import TextDataset\n",
    "from lstm import LSTMModel\n",
    "from tokenizer import merge_text_files\n",
    "from utils import add_special_tokens, collate_fn\n",
    "import torch\n",
    "import torch.nn as nn\n",
    "import torch.optim as optim\n",
    "from torch.utils.data import DataLoader\n",
    "import sentencepiece as spm\n"
   ]
  },
  {
   "cell_type": "code",
   "execution_count": 2,
   "id": "6e58900a",
   "metadata": {},
   "outputs": [],
   "source": [
    "TOKENIZER_PATH = \"bpe_tokenizer.model\"\n",
    "TRAIN_FILE = \"data/train.jsonl\"\n",
    "VAL_FILE = \"data/test.jsonl\"\n",
    "MAX_SEQ_LEN = 128\n",
    "BATCH_SIZE = 256\n",
    "EMBEDD_DIM = 128\n",
    "HIDDEN_DIM = 256\n",
    "NUM_LAYERS = 2\n",
    "DROPOUT = 0.2\n",
    "LEARNING_RATE = 0.001\n",
    "EPOCHS = 50\n"
   ]
  },
  {
   "cell_type": "code",
   "execution_count": 3,
   "id": "ec4b2a4b",
   "metadata": {},
   "outputs": [],
   "source": [
    "model = LSTMModel(\n",
    "    vocab_size=10000,\n",
    "    embedding_dim=EMBEDD_DIM,\n",
    "    hidden_dim=HIDDEN_DIM,\n",
    "    num_layers=NUM_LAYERS,\n",
    "    dropout=DROPOUT,\n",
    ")\n"
   ]
  },
  {
   "cell_type": "code",
   "execution_count": 4,
   "id": "fb17839f",
   "metadata": {},
   "outputs": [],
   "source": [
    "def train_model(model=None, name=None):\n",
    "    \"\"\"\n",
    "    Training the model.\n",
    "    \"\"\"\n",
    "\n",
    "    device = torch.device('mps' if torch.backends.mps.is_available() else 'cpu')\n",
    "    print(f\"Using device: {device}\")\n",
    "    # Load the tokenizer\n",
    "    tokenizer = spm.SentencePieceProcessor(model_file='bpe_tokenizer.model')\n",
    "    vocab_size = tokenizer.get_piece_size()\n",
    "\n",
    "    # Load the dataset\n",
    "    train_dataset = TextDataset(TRAIN_FILE, tokenizer, MAX_SEQ_LEN)\n",
    "    val_dataset = TextDataset(VAL_FILE, tokenizer, MAX_SEQ_LEN)\n",
    "\n",
    "    # Create DataLoader\n",
    "    train_loader = DataLoader(train_dataset, batch_size=BATCH_SIZE, shuffle=True, collate_fn=collate_fn)\n",
    "    val_loader = DataLoader(val_dataset, batch_size=BATCH_SIZE, shuffle=False, collate_fn=collate_fn)\n",
    "\n",
    "\n",
    "    model = model.to(device)\n",
    "\n",
    "    # optimizer = optim.Adam(model.parameters(), lr=LEARNING_RATE)\n",
    "    # optimizer = optim.AdamW(model.parameters(), lr=LEARNING_RATE, weight_decay=1e-4)\n",
    "    optimizer = optim.AdamW(model.parameters(), lr=0.005, weight_decay=1e-2)\n",
    "\n",
    "    scheduler = optim.lr_scheduler.ReduceLROnPlateau(optimizer, \"min\", patience=1, factor=0.5, verbose=True)\n",
    "    criterion = nn.CrossEntropyLoss(ignore_index=3)  # Ignore padding index\n",
    "\n",
    "    best_val_loss = float('inf')\n",
    "    no_improve_epochs = 0\n",
    "    train_losses, val_losses = [], []\n",
    "\n",
    "    for epoch in range(EPOCHS):\n",
    "        model.train()\n",
    "        total_train_loss = 0\n",
    "\n",
    "        for input_ids, target_ids in train_loader:\n",
    "            input_ids, target_ids = input_ids.to(device), target_ids.to(device)\n",
    "\n",
    "            optimizer.zero_grad()\n",
    "\n",
    "            logits, _ = model(input_ids)\n",
    "            loss = criterion(logits.view(-1, vocab_size), target_ids.view(-1))\n",
    "            loss.backward()\n",
    "            optimizer.step()\n",
    "\n",
    "            total_train_loss += loss.item()\n",
    "\n",
    "        avg_train_loss = total_train_loss / len(train_loader)\n",
    "        train_losses.append(avg_train_loss)\n",
    "        print(f\"Epoch {epoch + 1}/{EPOCHS}, Train Loss: {avg_train_loss:.4f}\")\n",
    "\n",
    "        # Validation\n",
    "        model.eval()\n",
    "        total_val_loss = 0\n",
    "        with torch.no_grad():\n",
    "            for input_ids, target_ids in val_loader:\n",
    "                input_ids, target_ids = input_ids.to(device), target_ids.to(device)\n",
    "\n",
    "\n",
    "                logits, _ = model(input_ids)\n",
    "                loss = criterion(logits.view(-1, vocab_size), target_ids.view(-1))\n",
    "                total_val_loss += loss.item()\n",
    "        avg_val_loss = total_val_loss / len(val_loader)\n",
    "        val_losses.append(avg_val_loss)\n",
    "        print(f\"Epoch {epoch + 1}/{EPOCHS}, Validation Loss: {avg_val_loss:.4f}\")\n",
    "        scheduler.step(avg_val_loss)\n",
    "        # Early stopping\n",
    "        if avg_val_loss < best_val_loss:\n",
    "            best_val_loss = avg_val_loss\n",
    "            no_improve_epochs = 0\n",
    "            torch.save(model.state_dict(), f\"best_models/best_model_{name}.pth\")\n",
    "            print(\"Model saved.\")\n",
    "        else:\n",
    "            no_improve_epochs += 1\n",
    "            if no_improve_epochs >= 3:\n",
    "                print(\"Early stopping triggered.\")\n",
    "                break\n",
    "    print(\"Training complete.\")\n",
    "    return train_losses, val_losses\n"
   ]
  },
  {
   "cell_type": "code",
   "execution_count": 5,
   "id": "3d6a9006",
   "metadata": {},
   "outputs": [
    {
     "name": "stdout",
     "output_type": "stream",
     "text": [
      "Using device: mps\n"
     ]
    },
    {
     "name": "stderr",
     "output_type": "stream",
     "text": [
      "/Users/ahmadrezahadi/miniconda3/envs/fai/lib/python3.12/site-packages/torch/optim/lr_scheduler.py:59: UserWarning: The verbose parameter is deprecated. Please use get_last_lr() to access the learning rate.\n",
      "  warnings.warn(\n"
     ]
    },
    {
     "name": "stdout",
     "output_type": "stream",
     "text": [
      "Epoch 1/50, Train Loss: 6.4330\n",
      "Epoch 1/50, Validation Loss: 5.9245\n",
      "Model saved.\n",
      "Epoch 2/50, Train Loss: 5.7543\n",
      "Epoch 2/50, Validation Loss: 5.6518\n",
      "Model saved.\n",
      "Epoch 3/50, Train Loss: 5.5598\n",
      "Epoch 3/50, Validation Loss: 5.5233\n",
      "Model saved.\n",
      "Epoch 4/50, Train Loss: 5.4439\n",
      "Epoch 4/50, Validation Loss: 5.4311\n",
      "Model saved.\n",
      "Epoch 5/50, Train Loss: 5.3640\n",
      "Epoch 5/50, Validation Loss: 5.3735\n",
      "Model saved.\n",
      "Epoch 6/50, Train Loss: 5.3056\n",
      "Epoch 6/50, Validation Loss: 5.3317\n",
      "Model saved.\n",
      "Epoch 7/50, Train Loss: 5.2585\n",
      "Epoch 7/50, Validation Loss: 5.2896\n",
      "Model saved.\n",
      "Epoch 8/50, Train Loss: 5.2176\n",
      "Epoch 8/50, Validation Loss: 5.2605\n",
      "Model saved.\n",
      "Epoch 9/50, Train Loss: 5.1806\n",
      "Epoch 9/50, Validation Loss: 5.2313\n",
      "Model saved.\n",
      "Epoch 10/50, Train Loss: 5.1460\n",
      "Epoch 10/50, Validation Loss: 5.2085\n",
      "Model saved.\n",
      "Epoch 11/50, Train Loss: 5.1170\n",
      "Epoch 11/50, Validation Loss: 5.1831\n",
      "Model saved.\n",
      "Epoch 12/50, Train Loss: 5.0870\n",
      "Epoch 12/50, Validation Loss: 5.1667\n",
      "Model saved.\n",
      "Epoch 13/50, Train Loss: 5.0609\n",
      "Epoch 13/50, Validation Loss: 5.1462\n",
      "Model saved.\n",
      "Epoch 14/50, Train Loss: 5.0375\n",
      "Epoch 14/50, Validation Loss: 5.1255\n",
      "Model saved.\n",
      "Epoch 15/50, Train Loss: 5.0131\n",
      "Epoch 15/50, Validation Loss: 5.1113\n",
      "Model saved.\n",
      "Epoch 16/50, Train Loss: 4.9918\n",
      "Epoch 16/50, Validation Loss: 5.0981\n",
      "Model saved.\n"
     ]
    },
    {
     "ename": "KeyboardInterrupt",
     "evalue": "",
     "output_type": "error",
     "traceback": [
      "\u001b[0;31m---------------------------------------------------------------------------\u001b[0m",
      "\u001b[0;31mKeyboardInterrupt\u001b[0m                         Traceback (most recent call last)",
      "Cell \u001b[0;32mIn[5], line 1\u001b[0m\n\u001b[0;32m----> 1\u001b[0m train_losses, val_losses \u001b[38;5;241m=\u001b[39m \u001b[43mtrain_model\u001b[49m\u001b[43m(\u001b[49m\u001b[43mmodel\u001b[49m\u001b[43m,\u001b[49m\u001b[43m \u001b[49m\u001b[43mmodel\u001b[49m\u001b[38;5;241;43m.\u001b[39;49m\u001b[43m_get_name\u001b[49m\u001b[43m(\u001b[49m\u001b[43m)\u001b[49m\u001b[43m)\u001b[49m\n",
      "Cell \u001b[0;32mIn[4], line 48\u001b[0m, in \u001b[0;36mtrain_model\u001b[0;34m(model, name)\u001b[0m\n\u001b[1;32m     45\u001b[0m     loss\u001b[38;5;241m.\u001b[39mbackward()\n\u001b[1;32m     46\u001b[0m     optimizer\u001b[38;5;241m.\u001b[39mstep()\n\u001b[0;32m---> 48\u001b[0m     total_train_loss \u001b[38;5;241m+\u001b[39m\u001b[38;5;241m=\u001b[39m \u001b[43mloss\u001b[49m\u001b[38;5;241;43m.\u001b[39;49m\u001b[43mitem\u001b[49m\u001b[43m(\u001b[49m\u001b[43m)\u001b[49m\n\u001b[1;32m     50\u001b[0m avg_train_loss \u001b[38;5;241m=\u001b[39m total_train_loss \u001b[38;5;241m/\u001b[39m \u001b[38;5;28mlen\u001b[39m(train_loader)\n\u001b[1;32m     51\u001b[0m train_losses\u001b[38;5;241m.\u001b[39mappend(avg_train_loss)\n",
      "\u001b[0;31mKeyboardInterrupt\u001b[0m: "
     ]
    }
   ],
   "source": [
    "train_losses, val_losses = train_model(model, model._get_name())"
   ]
  },
  {
   "cell_type": "code",
   "execution_count": 6,
   "id": "991cfdb9",
   "metadata": {},
   "outputs": [
    {
     "data": {
      "image/png": "[encoded data removed]",
      "text/plain": [
       "<Figure size 640x480 with 1 Axes>"
      ]
     },
     "metadata": {},
     "output_type": "display_data"
    }
   ],
   "source": [
    "import matplotlib.pyplot as plt\n",
    "plt.plot(train_losses, label='Train Loss')\n",
    "plt.plot(val_losses, label='Validation Loss')\n",
    "plt.xlabel('Epochs')\n",
    "plt.ylabel('Loss')\n",
    "plt.title(f'Losses for {model._get_name()}')\n",
    "plt.legend()\n",
    "plt.savefig(f\"losses_{model._get_name()}.png\")\n",
    "plt.show()"
   ]
  },
  {
   "cell_type": "code",
   "execution_count": 7,
   "id": "e39a79de",
   "metadata": {},
   "outputs": [],
   "source": [
    "# save losses\n",
    "import json\n",
    "with open(f\"best_models/losses_{model._get_name()}.json\", \"w\") as f:\n",
    "    json.dump({\"train\": train_losses, \"val\": val_losses}, f)"
   ]
  },
  {
   "cell_type": "code",
   "execution_count": null,
   "id": "c1aa28fa",
   "metadata": {},
   "outputs": [],
   "source": []
  }
 ],
 "metadata": {
  "kernelspec": {
   "display_name": "fai",
   "language": "python",
   "name": "python3"
  },
  "language_info": {
   "codemirror_mode": {
    "name": "ipython",
    "version": 3
   },
   "file_extension": ".py",
   "mimetype": "text/x-python",
   "name": "python",
   "nbconvert_exporter": "python",
   "pygments_lexer": "ipython3",
   "version": "3.12.9"
  }
 },
 "nbformat": 4,
 "nbformat_minor": 5
}
