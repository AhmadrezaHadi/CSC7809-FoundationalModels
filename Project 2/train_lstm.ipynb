{
 "cells": [
  {
   "cell_type": "code",
   "execution_count": 1,
   "id": "db4109cb",
   "metadata": {
    "tags": []
   },
   "outputs": [],
   "source": [
    "from dataset import TextDataset\n",
    "from lstm import LSTMModel\n",
    "from tokenizer import merge_text_files\n",
    "from utils import add_special_tokens, collate_fn\n",
    "import torch\n",
    "import torch.nn as nn\n",
    "import torch.optim as optim\n",
    "from torch.utils.data import DataLoader\n",
    "import sentencepiece as spm"
   ]
  },
  {
   "cell_type": "code",
   "execution_count": 2,
   "id": "6e58900a",
   "metadata": {
    "tags": []
   },
   "outputs": [
    {
     "data": {
      "text/plain": [
       "'NVIDIA A100 80GB PCIe'"
      ]
     },
     "execution_count": 2,
     "metadata": {},
     "output_type": "execute_result"
    }
   ],
   "source": [
    "TOKENIZER_PATH = \"bpe_tokenizer.model\"\n",
    "TRAIN_FILE = \"data/train.jsonl\"\n",
    "VAL_FILE = \"data/test.jsonl\"\n",
    "MAX_SEQ_LEN = 512\n",
    "BATCH_SIZE = 128\n",
    "EMBEDD_DIM = 256\n",
    "HIDDEN_DIM = 768\n",
    "NUM_LAYERS = 2\n",
    "DROPOUT = 0.2\n",
    "LEARNING_RATE = 0.001\n",
    "EPOCHS = 100\n",
    "torch.cuda.get_device_name(0)"
   ]
  },
  {
   "cell_type": "code",
   "execution_count": 3,
   "id": "ec4b2a4b",
   "metadata": {
    "tags": []
   },
   "outputs": [],
   "source": [
    "model = LSTMModel(\n",
    "    vocab_size=10000,\n",
    "    embedding_dim=EMBEDD_DIM,\n",
    "    hidden_dim=HIDDEN_DIM,\n",
    "    num_layers=NUM_LAYERS,\n",
    "    dropout=DROPOUT,\n",
    ")\n"
   ]
  },
  {
   "cell_type": "code",
   "execution_count": 4,
   "id": "fb17839f",
   "metadata": {
    "tags": []
   },
   "outputs": [],
   "source": [
    "def train_model(model=None, name=None):\n",
    "    \"\"\"\n",
    "    Training the model.\n",
    "    \"\"\"\n",
    "\n",
    "    device = torch.device('mps' if torch.backends.mps.is_available() else 'cuda' if torch.cuda.is_available() else 'cpu')\n",
    "    print(f\"Using device: {device}\")\n",
    "    # Load the tokenizer\n",
    "    tokenizer = spm.SentencePieceProcessor(model_file='bpe_tokenizer.model')\n",
    "    vocab_size = tokenizer.get_piece_size()\n",
    "\n",
    "    # Load the dataset\n",
    "    train_dataset = TextDataset(TRAIN_FILE, tokenizer, MAX_SEQ_LEN)\n",
    "    val_dataset = TextDataset(VAL_FILE, tokenizer, MAX_SEQ_LEN)\n",
    "\n",
    "    # Create DataLoader\n",
    "    train_loader = DataLoader(train_dataset, batch_size=BATCH_SIZE, shuffle=True, collate_fn=collate_fn)\n",
    "    val_loader = DataLoader(val_dataset, batch_size=BATCH_SIZE, shuffle=False, collate_fn=collate_fn)\n",
    "\n",
    "\n",
    "    model = model.to(device)\n",
    "\n",
    "    # optimizer = optim.Adam(model.parameters(), lr=LEARNING_RATE)\n",
    "    optimizer = optim.AdamW(model.parameters(), lr=LEARNING_RATE, weight_decay=1e-4)\n",
    "    # optimizer = optim.AdamW(model.parameters(), lr=0.01, weight_decay=1e-4)\n",
    "\n",
    "    scheduler = optim.lr_scheduler.ReduceLROnPlateau(optimizer, \"min\", patience=1, factor=0.5, verbose=True)\n",
    "    criterion = nn.CrossEntropyLoss(ignore_index=3)  # Ignore padding index\n",
    "\n",
    "    best_val_loss = float('inf')\n",
    "    no_improve_epochs = 0\n",
    "    train_losses, val_losses = [], []\n",
    "\n",
    "    for epoch in range(EPOCHS):\n",
    "        model.train()\n",
    "        total_train_loss = 0\n",
    "\n",
    "        for input_ids, target_ids in train_loader:\n",
    "            input_ids, target_ids = input_ids.to(device), target_ids.to(device)\n",
    "\n",
    "            optimizer.zero_grad()\n",
    "\n",
    "            logits, _ = model(input_ids)\n",
    "            loss = criterion(logits.view(-1, vocab_size), target_ids.view(-1))\n",
    "            loss.backward()\n",
    "            optimizer.step()\n",
    "\n",
    "            total_train_loss += loss.item()\n",
    "\n",
    "        avg_train_loss = total_train_loss / len(train_loader)\n",
    "        train_losses.append(avg_train_loss)\n",
    "        print(f\"Epoch {epoch + 1}/{EPOCHS}, Train Loss: {avg_train_loss:.4f}\")\n",
    "\n",
    "        # Validation\n",
    "        model.eval()\n",
    "        total_val_loss = 0\n",
    "        with torch.no_grad():\n",
    "            for input_ids, target_ids in val_loader:\n",
    "                input_ids, target_ids = input_ids.to(device), target_ids.to(device)\n",
    "\n",
    "\n",
    "                logits, _ = model(input_ids)\n",
    "                loss = criterion(logits.view(-1, vocab_size), target_ids.view(-1))\n",
    "                total_val_loss += loss.item()\n",
    "        avg_val_loss = total_val_loss / len(val_loader)\n",
    "        val_losses.append(avg_val_loss)\n",
    "        print(f\"Epoch {epoch + 1}/{EPOCHS}, Validation Loss: {avg_val_loss:.4f}\")\n",
    "        scheduler.step(avg_val_loss)\n",
    "        # Early stopping\n",
    "        if avg_val_loss < best_val_loss:\n",
    "            best_val_loss = avg_val_loss\n",
    "            no_improve_epochs = 0\n",
    "            torch.save(model.state_dict(), f\"best_models/best_model_{name}.pth\")\n",
    "            print(\"Model saved.\")\n",
    "        else:\n",
    "            no_improve_epochs += 1\n",
    "            if no_improve_epochs >= 3:\n",
    "                print(\"Early stopping triggered.\")\n",
    "                break\n",
    "    print(\"Training complete.\")\n",
    "    return train_losses, val_losses\n"
   ]
  },
  {
   "cell_type": "code",
   "execution_count": 5,
   "id": "3d6a9006",
   "metadata": {
    "tags": []
   },
   "outputs": [
    {
     "name": "stdout",
     "output_type": "stream",
     "text": [
      "Using device: cuda\n"
     ]
    },
    {
     "name": "stderr",
     "output_type": "stream",
     "text": [
      "/home/madrez/.conda/envs/fai/lib/python3.10/site-packages/torch/optim/lr_scheduler.py:62: UserWarning: The verbose parameter is deprecated. Please use get_last_lr() to access the learning rate.\n",
      "  warnings.warn(\n"
     ]
    },
    {
     "name": "stdout",
     "output_type": "stream",
     "text": [
      "Epoch 1/100, Train Loss: 6.5160\n",
      "Epoch 1/100, Validation Loss: 5.9301\n",
      "Model saved.\n",
      "Epoch 2/100, Train Loss: 5.6497\n",
      "Epoch 2/100, Validation Loss: 5.4482\n",
      "Model saved.\n",
      "Epoch 3/100, Train Loss: 5.3168\n",
      "Epoch 3/100, Validation Loss: 5.2082\n",
      "Model saved.\n",
      "Epoch 4/100, Train Loss: 5.1041\n",
      "Epoch 4/100, Validation Loss: 5.0467\n",
      "Model saved.\n",
      "Epoch 5/100, Train Loss: 4.9492\n",
      "Epoch 5/100, Validation Loss: 4.9283\n",
      "Model saved.\n",
      "Epoch 6/100, Train Loss: 4.8304\n",
      "Epoch 6/100, Validation Loss: 4.8414\n",
      "Model saved.\n",
      "Epoch 7/100, Train Loss: 4.7297\n",
      "Epoch 7/100, Validation Loss: 4.7721\n",
      "Model saved.\n",
      "Epoch 8/100, Train Loss: 4.6413\n",
      "Epoch 8/100, Validation Loss: 4.7129\n",
      "Model saved.\n",
      "Epoch 9/100, Train Loss: 4.5601\n",
      "Epoch 9/100, Validation Loss: 4.6610\n",
      "Model saved.\n",
      "Epoch 10/100, Train Loss: 4.4844\n",
      "Epoch 10/100, Validation Loss: 4.6185\n",
      "Model saved.\n",
      "Epoch 11/100, Train Loss: 4.4146\n",
      "Epoch 11/100, Validation Loss: 4.5815\n",
      "Model saved.\n",
      "Epoch 12/100, Train Loss: 4.3487\n",
      "Epoch 12/100, Validation Loss: 4.5545\n",
      "Model saved.\n",
      "Epoch 13/100, Train Loss: 4.2884\n",
      "Epoch 13/100, Validation Loss: 4.5292\n",
      "Model saved.\n",
      "Epoch 14/100, Train Loss: 4.2302\n",
      "Epoch 14/100, Validation Loss: 4.5088\n",
      "Model saved.\n",
      "Epoch 15/100, Train Loss: 4.1749\n",
      "Epoch 15/100, Validation Loss: 4.4947\n",
      "Model saved.\n",
      "Epoch 16/100, Train Loss: 4.1221\n",
      "Epoch 16/100, Validation Loss: 4.4817\n",
      "Model saved.\n",
      "Epoch 17/100, Train Loss: 4.0723\n",
      "Epoch 17/100, Validation Loss: 4.4765\n",
      "Model saved.\n",
      "Epoch 18/100, Train Loss: 4.0244\n",
      "Epoch 18/100, Validation Loss: 4.4706\n",
      "Model saved.\n",
      "Epoch 19/100, Train Loss: 3.9795\n",
      "Epoch 19/100, Validation Loss: 4.4675\n",
      "Model saved.\n",
      "Epoch 20/100, Train Loss: 3.9354\n",
      "Epoch 20/100, Validation Loss: 4.4626\n",
      "Model saved.\n",
      "Epoch 21/100, Train Loss: 3.8931\n",
      "Epoch 21/100, Validation Loss: 4.4651\n",
      "Epoch 22/100, Train Loss: 3.8520\n",
      "Epoch 22/100, Validation Loss: 4.4706\n",
      "Epoch 23/100, Train Loss: 3.7706\n",
      "Epoch 23/100, Validation Loss: 4.4605\n",
      "Model saved.\n",
      "Epoch 24/100, Train Loss: 3.7441\n",
      "Epoch 24/100, Validation Loss: 4.4658\n",
      "Epoch 25/100, Train Loss: 3.7229\n",
      "Epoch 25/100, Validation Loss: 4.4700\n",
      "Epoch 26/100, Train Loss: 3.6788\n",
      "Epoch 26/100, Validation Loss: 4.4682\n",
      "Early stopping triggered.\n",
      "Training complete.\n"
     ]
    }
   ],
   "source": [
    "train_losses, val_losses = train_model(model, model._get_name())"
   ]
  },
  {
   "cell_type": "code",
   "execution_count": 6,
   "id": "991cfdb9",
   "metadata": {
    "tags": []
   },
   "outputs": [
    {
     "data": {
      "image/png": "[encoded data removed]",
      "text/plain": [
       "<Figure size 640x480 with 1 Axes>"
      ]
     },
     "metadata": {},
     "output_type": "display_data"
    }
   ],
   "source": [
    "import matplotlib.pyplot as plt\n",
    "plt.plot(train_losses, label='Train Loss')\n",
    "plt.plot(val_losses, label='Validation Loss')\n",
    "plt.xlabel('Epochs')\n",
    "plt.ylabel('Loss')\n",
    "plt.title(f'Losses for {model._get_name()}')\n",
    "plt.legend()\n",
    "plt.savefig(f\"best_models/img/losses_{model._get_name()}.png\")\n",
    "plt.show()"
   ]
  },
  {
   "cell_type": "code",
   "execution_count": 7,
   "id": "e39a79de",
   "metadata": {
    "tags": []
   },
   "outputs": [],
   "source": [
    "# save losses\n",
    "import json\n",
    "with open(f\"best_models/loss/losses_{model._get_name()}.json\", \"w\") as f:\n",
    "    json.dump({\"train\": train_losses, \"val\": val_losses}, f)"
   ]
  },
  {
   "cell_type": "code",
   "execution_count": 4,
   "id": "5280d315-a3a8-4993-baef-df8a62a17566",
   "metadata": {
    "tags": []
   },
   "outputs": [
    {
     "data": {
      "text/plain": [
       "LSTMModel(\n",
       "  (embedding): Embedding(10000, 256, padding_idx=0)\n",
       "  (lstm): LSTM(256, 768, num_layers=2, batch_first=True, dropout=0.2)\n",
       "  (fc): Linear(in_features=768, out_features=10000, bias=True)\n",
       ")"
      ]
     },
     "execution_count": 4,
     "metadata": {},
     "output_type": "execute_result"
    }
   ],
   "source": [
    "model.load_state_dict(torch.load(\"best_models/pth/best_model_LSTMModel.pth\"))\n",
    "device=\"cuda\"\n",
    "model.to(device)\n",
    "model.eval()"
   ]
  },
  {
   "cell_type": "code",
   "execution_count": 5,
   "id": "75ee9256-b26d-4b41-acde-027479586be5",
   "metadata": {
    "tags": []
   },
   "outputs": [
    {
     "data": {
      "text/plain": [
       "'<eos> thought! And here Tshins letter made by a big male gloved husband poppedbeod, and then trotted and combed. If one has. Some thought: Give him back your inn height, said Neville, sat'"
      ]
     },
     "execution_count": 5,
     "metadata": {},
     "output_type": "execute_result"
    }
   ],
   "source": [
    "import sentencepiece as spm\n",
    "TOKENIZER_PATH = \"bpe_tokenizer.model\"\n",
    "tokenizer = spm.SentencePieceProcessor(model_file=TOKENIZER_PATH)\n",
    "prompt = \"Which do you prefer? Dogs or cats?\"\n",
    "model.generate(tokenizer, prompt, device=\"cuda\")"
   ]
  },
  {
   "cell_type": "code",
   "execution_count": 6,
   "id": "043b4bd1-af01-4b41-84b0-fc1d4f766426",
   "metadata": {
    "tags": []
   },
   "outputs": [
    {
     "data": {
      "text/plain": [
       "'Hayde! cried the count. Your excellency, really, you understand, murmured Pierre, to blame the count pronounced to prove all this: my affair help her from my ownator.<eos>! but she firmly felt about it even in the'"
      ]
     },
     "execution_count": 6,
     "metadata": {},
     "output_type": "execute_result"
    }
   ],
   "source": [
    "prompt = \"Once upon a time...\"\n",
    "model.generate(tokenizer, prompt, device=\"cuda\")"
   ]
  },
  {
   "cell_type": "code",
   "execution_count": 7,
   "id": "232fe58d-a8ff-4a0d-b281-8f1c06614d2d",
   "metadata": {
    "tags": []
   },
   "outputs": [
    {
     "name": "stderr",
     "output_type": "stream",
     "text": [
      "Calculating Perplexity: 100%|██████████| 310/310 [00:02<00:00, 120.89it/s]\n",
      "Calculating BLEU: 100%|██████████| 1000/1000 [00:20<00:00, 48.46it/s]"
     ]
    },
    {
     "name": "stdout",
     "output_type": "stream",
     "text": [
      "\n",
      "Test Perplexity: 86.2531\n",
      "Average BLEU Score (1000 samples): 0.0073\n"
     ]
    },
    {
     "name": "stderr",
     "output_type": "stream",
     "text": [
      "\n"
     ]
    }
   ],
   "source": [
    "from dataset import TextDataset\n",
    "from utils import collate_fn\n",
    "from torch.utils.data import DataLoader\n",
    "from tqdm import tqdm\n",
    "\n",
    "MAX_SEQ_LEN = 128\n",
    "BATCH_SIZE = 128\n",
    "\n",
    "val_dataset = TextDataset(VAL_FILE, tokenizer, MAX_SEQ_LEN)\n",
    "val_loader = DataLoader(val_dataset, batch_size=BATCH_SIZE, shuffle=False, collate_fn=collate_fn)\n",
    "\n",
    "\n",
    "\n",
    "from nltk.translate.bleu_score import sentence_bleu, SmoothingFunction\n",
    "from tqdm import tqdm\n",
    "\n",
    "import math\n",
    "criterion = nn.CrossEntropyLoss(ignore_index=3)\n",
    "vocab_size = 10000\n",
    "device=\"cuda\"\n",
    "def evaluate_ppl(model, data_loader, criterion, vocab_size):\n",
    "    model.eval()\n",
    "    total_loss = 0\n",
    "    with torch.no_grad():\n",
    "        for inputs, targets in tqdm(data_loader, desc=\"Calculating Perplexity\"):\n",
    "            inputs, targets = inputs.to(device), targets.to(device)\n",
    "            outputs, _ = model(inputs)\n",
    "            outputs = outputs.view(-1, vocab_size)\n",
    "            targets = targets.view(-1)\n",
    "            loss = criterion(outputs, targets)\n",
    "            total_loss += loss.item()\n",
    "    avg_loss = total_loss / len(data_loader)\n",
    "    ppl = math.exp(avg_loss)\n",
    "    return ppl\n",
    "\n",
    "def evaluate_bleu(model, dataset, sp, num_samples=1000):\n",
    "    model.eval()\n",
    "    smoothie = SmoothingFunction().method4\n",
    "    scores = []\n",
    "\n",
    "    for i in tqdm(range(min(len(dataset), num_samples)), desc=\"Calculating BLEU\"):\n",
    "        full_text = dataset.data[i]\n",
    "        # full_text = dataset.samples[i]\n",
    "        prompt = full_text[:50]\n",
    "        reference = full_text[50:100]\n",
    "        generated_text = model.generate(tokenizer, prompt, device=\"cuda\")\n",
    "\n",
    "        # Compare generated text to the actual continuation\n",
    "        score = sentence_bleu(\n",
    "            [reference.split()],\n",
    "            generated_text.split(),\n",
    "            smoothing_function=smoothie\n",
    "        )\n",
    "        scores.append(score)\n",
    "\n",
    "    return sum(scores) / len(scores)\n",
    "# Evaluate on test set\n",
    "test_loader = DataLoader(val_dataset, batch_size=32, shuffle=False, collate_fn=collate_fn)\n",
    "ppl = evaluate_ppl(model, test_loader, criterion, vocab_size)\n",
    "bleu = evaluate_bleu(model, val_dataset, tokenizer)\n",
    "\n",
    "print(f\"\\nTest Perplexity: {ppl:.4f}\")\n",
    "print(f\"Average BLEU Score (1000 samples): {bleu:.4f}\")"
   ]
  },
  {
   "cell_type": "code",
   "execution_count": null,
   "id": "77676930-3968-48cd-8ad9-b749c7d58839",
   "metadata": {},
   "outputs": [],
   "source": []
  }
 ],
 "metadata": {
  "kernelspec": {
   "display_name": "[Conda VE] .conda-fai",
   "language": "python",
   "name": "conda-env-.conda-fai-py"
  },
  "language_info": {
   "codemirror_mode": {
    "name": "ipython",
    "version": 3
   },
   "file_extension": ".py",
   "mimetype": "text/x-python",
   "name": "python",
   "nbconvert_exporter": "python",
   "pygments_lexer": "ipython3",
   "version": "3.10.17"
  }
 },
 "nbformat": 4,
 "nbformat_minor": 5
}
