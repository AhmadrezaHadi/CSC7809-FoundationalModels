{
 "cells": [
  {
   "cell_type": "code",
   "execution_count": 1,
   "id": "bf21eb17",
   "metadata": {
    "tags": []
   },
   "outputs": [],
   "source": [
    "from gru import GRULanguageModel\n",
    "from rnn import RNNModel\n",
    "from lstm import LSTMModel\n",
    "from transformer import DecoderOnlyLM\n",
    "import torch\n",
    "import torch.nn as nn"
   ]
  },
  {
   "cell_type": "code",
   "execution_count": 2,
   "id": "f1ee3f83",
   "metadata": {
    "tags": []
   },
   "outputs": [],
   "source": [
    "model_path = 'best_model_RNNModel.pth'\n",
    "TOKENIZER_PATH = \"bpe_tokenizer.model\"\n",
    "TRAIN_FILE = \"data/train.jsonl\"\n",
    "VAL_FILE = \"data/test.jsonl\""
   ]
  },
  {
   "cell_type": "code",
   "execution_count": 3,
   "id": "be723c26-f811-4a46-87d2-9743495a0499",
   "metadata": {
    "tags": []
   },
   "outputs": [],
   "source": [
    "rnn_model = RNNModel(\n",
    "    vocab_size=10000,\n",
    "    embedding_dim=128,\n",
    "    hidden_dim=256,\n",
    "    num_layers=2,\n",
    "    dropout=0.2\n",
    ").to(\"cuda\")\n",
    "\n",
    "lstm_model = LSTMModel(\n",
    "    vocab_size=10000,\n",
    "    embedding_dim=256,\n",
    "    hidden_dim=256,\n",
    "    num_layers=2,\n",
    "    dropout=0.2,\n",
    ").to(\"cuda\")\n",
    "\n",
    "transformer_model = DecoderOnlyLM(\n",
    "    vocab_size=10000,\n",
    "    d_model=256,\n",
    "    nhead=4,\n",
    "    num_layers=4,\n",
    "    dropout=0.2\n",
    ").to(\"cuda\")"
   ]
  },
  {
   "cell_type": "code",
   "execution_count": 5,
   "id": "a932fc8b",
   "metadata": {
    "tags": []
   },
   "outputs": [
    {
     "name": "stdout",
     "output_type": "stream",
     "text": [
      "Loaded RNNModel\n",
      "Loaded LSTMModel\n",
      "Loaded DecoderOnlyLM\n"
     ]
    }
   ],
   "source": [
    "models = [rnn_model, lstm_model, transformer_model]\n",
    "\n",
    "for model in models:\n",
    "    model.load_state_dict(torch.load(f\"best_models/best_model_{model._get_name()}.pth\"))\n",
    "    model.eval()\n",
    "    print(f\"Loaded {model._get_name()}\")\n"
   ]
  },
  {
   "cell_type": "code",
   "execution_count": 11,
   "id": "0ca795d4",
   "metadata": {},
   "outputs": [],
   "source": [
    "\n",
    "prompt = \"Once upon a time\"\n",
    "# Tokenize the prompt\n",
    "import sentencepiece as spm\n",
    "tokenizer = spm.SentencePieceProcessor(model_file=TOKENIZER_PATH)"
   ]
  },
  {
   "cell_type": "code",
   "execution_count": 12,
   "id": "7c9214d1",
   "metadata": {},
   "outputs": [
    {
     "data": {
      "text/plain": [
       "torch.Size([1, 4])"
      ]
     },
     "execution_count": 12,
     "metadata": {},
     "output_type": "execute_result"
    }
   ],
   "source": [
    "input_ids = tokenizer.encode(prompt, out_type=int)\n",
    "input_tensor = torch.tensor(input_ids, dtype=torch.long).to('mps').unsqueeze(0) # shape (1, seq_len)\n",
    "input_tensor.shape"
   ]
  },
  {
   "cell_type": "code",
   "execution_count": 13,
   "id": "3d1f9837",
   "metadata": {},
   "outputs": [
    {
     "data": {
      "text/plain": [
       "'they would be, killed leaving, and noxon or wish the young prince had possible. Rostv did not appear to savelooks and stood down for a long time to wait.Nness. Snya took her visitors to her'"
      ]
     },
     "execution_count": 13,
     "metadata": {},
     "output_type": "execute_result"
    }
   ],
   "source": [
    "model.generate(tokenizer, prompt)"
   ]
  },
  {
   "cell_type": "code",
   "execution_count": 17,
   "id": "66a0334e",
   "metadata": {},
   "outputs": [
    {
     "data": {
      "text/plain": [
       "torch.Size([1])"
      ]
     },
     "execution_count": 17,
     "metadata": {},
     "output_type": "execute_result"
    }
   ],
   "source": [
    "re.shape"
   ]
  },
  {
   "cell_type": "code",
   "execution_count": 18,
   "id": "a7afe7aa",
   "metadata": {},
   "outputs": [
    {
     "data": {
      "text/plain": [
       "tensor([2627], device='mps:0')"
      ]
     },
     "execution_count": 18,
     "metadata": {},
     "output_type": "execute_result"
    }
   ],
   "source": [
    "re"
   ]
  },
  {
   "cell_type": "code",
   "execution_count": 20,
   "id": "b2690830",
   "metadata": {},
   "outputs": [
    {
     "data": {
      "text/plain": [
       "torch.Size([1, 1])"
      ]
     },
     "execution_count": 20,
     "metadata": {},
     "output_type": "execute_result"
    }
   ],
   "source": [
    "re.unsqueeze(0).shape"
   ]
  },
  {
   "cell_type": "code",
   "execution_count": null,
   "id": "4c2f6a2c",
   "metadata": {},
   "outputs": [],
   "source": []
  }
 ],
 "metadata": {
  "kernelspec": {
   "display_name": "[Conda VE] .conda-fai",
   "language": "python",
   "name": "conda-env-.conda-fai-py"
  },
  "language_info": {
   "codemirror_mode": {
    "name": "ipython",
    "version": 3
   },
   "file_extension": ".py",
   "mimetype": "text/x-python",
   "name": "python",
   "nbconvert_exporter": "python",
   "pygments_lexer": "ipython3",
   "version": "3.10.17"
  }
 },
 "nbformat": 4,
 "nbformat_minor": 5
}
