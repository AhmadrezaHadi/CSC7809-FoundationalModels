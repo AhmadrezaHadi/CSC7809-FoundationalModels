{
 "cells": [
  {
   "cell_type": "code",
   "execution_count": 1,
   "id": "bf21eb17",
   "metadata": {},
   "outputs": [],
   "source": [
    "from gru import GRULanguageModel\n",
    "from rnn import RNNModel\n",
    "import torch\n",
    "import torch.nn as nn"
   ]
  },
  {
   "cell_type": "code",
   "execution_count": 2,
   "id": "f1ee3f83",
   "metadata": {},
   "outputs": [],
   "source": [
    "model_path = 'best_model_RNNModel.pth'\n",
    "TOKENIZER_PATH = \"bpe_tokenizer.model\"\n",
    "TRAIN_FILE = \"data/train.jsonl\"\n",
    "VAL_FILE = \"data/test.jsonl\"\n",
    "MAX_SEQ_LEN = 128\n",
    "BATCH_SIZE = 256\n",
    "EMBEDD_DIM = 256\n",
    "HIDDEN_DIM = 512\n",
    "NUM_LAYERS = 2\n",
    "DROPOUT = 0.2\n",
    "LEARNING_RATE = 0.001\n",
    "EPOCHS = 30"
   ]
  },
  {
   "cell_type": "code",
   "execution_count": 3,
   "id": "10bcf62e",
   "metadata": {},
   "outputs": [],
   "source": [
    "model = RNNModel(\n",
    "    vocab_size=10000,\n",
    "    embedding_dim=EMBEDD_DIM,\n",
    "    hidden_dim=HIDDEN_DIM,\n",
    "    num_layers=NUM_LAYERS,\n",
    "    dropout=DROPOUT\n",
    ").to(\"mps\")\n"
   ]
  },
  {
   "cell_type": "code",
   "execution_count": 4,
   "id": "a932fc8b",
   "metadata": {},
   "outputs": [
    {
     "data": {
      "text/plain": [
       "RNNModel(\n",
       "  (embedding): Embedding(10000, 256, padding_idx=0)\n",
       "  (rnn): RNN(256, 512, num_layers=2, batch_first=True, dropout=0.2)\n",
       "  (fc): Linear(in_features=512, out_features=10000, bias=True)\n",
       ")"
      ]
     },
     "execution_count": 4,
     "metadata": {},
     "output_type": "execute_result"
    }
   ],
   "source": [
    "# load model from checkpoint\n",
    "checkpoint = torch.load(model_path)\n",
    "model.load_state_dict(checkpoint)\n",
    "model.eval()"
   ]
  },
  {
   "cell_type": "code",
   "execution_count": 11,
   "id": "0ca795d4",
   "metadata": {},
   "outputs": [],
   "source": [
    "model.eval()\n",
    "prompt = \"Once upon a time\"\n",
    "# Tokenize the prompt\n",
    "import sentencepiece as spm\n",
    "tokenizer = spm.SentencePieceProcessor(model_file=TOKENIZER_PATH)"
   ]
  },
  {
   "cell_type": "code",
   "execution_count": 12,
   "id": "7c9214d1",
   "metadata": {},
   "outputs": [
    {
     "data": {
      "text/plain": [
       "torch.Size([1, 4])"
      ]
     },
     "execution_count": 12,
     "metadata": {},
     "output_type": "execute_result"
    }
   ],
   "source": [
    "input_ids = tokenizer.encode(prompt, out_type=int)\n",
    "input_tensor = torch.tensor(input_ids, dtype=torch.long).to('mps').unsqueeze(0) # shape (1, seq_len)\n",
    "input_tensor.shape"
   ]
  },
  {
   "cell_type": "code",
   "execution_count": 13,
   "id": "3d1f9837",
   "metadata": {},
   "outputs": [
    {
     "data": {
      "text/plain": [
       "'they would be, killed leaving, and noxon or wish the young prince had possible. Rostv did not appear to savelooks and stood down for a long time to wait.Nness. Snya took her visitors to her'"
      ]
     },
     "execution_count": 13,
     "metadata": {},
     "output_type": "execute_result"
    }
   ],
   "source": [
    "model.generate(tokenizer, prompt)"
   ]
  },
  {
   "cell_type": "code",
   "execution_count": 17,
   "id": "66a0334e",
   "metadata": {},
   "outputs": [
    {
     "data": {
      "text/plain": [
       "torch.Size([1])"
      ]
     },
     "execution_count": 17,
     "metadata": {},
     "output_type": "execute_result"
    }
   ],
   "source": [
    "re.shape"
   ]
  },
  {
   "cell_type": "code",
   "execution_count": 18,
   "id": "a7afe7aa",
   "metadata": {},
   "outputs": [
    {
     "data": {
      "text/plain": [
       "tensor([2627], device='mps:0')"
      ]
     },
     "execution_count": 18,
     "metadata": {},
     "output_type": "execute_result"
    }
   ],
   "source": [
    "re"
   ]
  },
  {
   "cell_type": "code",
   "execution_count": 20,
   "id": "b2690830",
   "metadata": {},
   "outputs": [
    {
     "data": {
      "text/plain": [
       "torch.Size([1, 1])"
      ]
     },
     "execution_count": 20,
     "metadata": {},
     "output_type": "execute_result"
    }
   ],
   "source": [
    "re.unsqueeze(0).shape"
   ]
  },
  {
   "cell_type": "code",
   "execution_count": null,
   "id": "4c2f6a2c",
   "metadata": {},
   "outputs": [],
   "source": []
  }
 ],
 "metadata": {
  "kernelspec": {
   "display_name": "fai",
   "language": "python",
   "name": "python3"
  },
  "language_info": {
   "codemirror_mode": {
    "name": "ipython",
    "version": 3
   },
   "file_extension": ".py",
   "mimetype": "text/x-python",
   "name": "python",
   "nbconvert_exporter": "python",
   "pygments_lexer": "ipython3",
   "version": "3.12.9"
  }
 },
 "nbformat": 4,
 "nbformat_minor": 5
}
