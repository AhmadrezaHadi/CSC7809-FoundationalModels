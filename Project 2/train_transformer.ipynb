{
 "cells": [
  {
   "cell_type": "code",
   "execution_count": 1,
   "id": "6fc9569b",
   "metadata": {
    "tags": []
   },
   "outputs": [],
   "source": [
    "from dataset import TextDataset\n",
    "from tokenizer import merge_text_files\n",
    "from utils import add_special_tokens, collate_fn\n",
    "import torch\n",
    "import torch.nn as nn\n",
    "import torch.optim as optim\n",
    "from torch.utils.data import DataLoader\n",
    "import sentencepiece as spm\n",
    "from transformer import DecoderOnlyLM"
   ]
  },
  {
   "cell_type": "code",
   "execution_count": 2,
   "id": "5657f1a3",
   "metadata": {
    "tags": []
   },
   "outputs": [
    {
     "data": {
      "text/plain": [
       "True"
      ]
     },
     "execution_count": 2,
     "metadata": {},
     "output_type": "execute_result"
    }
   ],
   "source": [
    "TOKENIZER_PATH = \"bpe_tokenizer.model\"\n",
    "TRAIN_FILE = \"data/train.jsonl\"\n",
    "VAL_FILE = \"data/test.jsonl\"\n",
    "MAX_SEQ_LEN = 512\n",
    "BATCH_SIZE = 128\n",
    "EMBEDD_DIM = 256\n",
    "NUM_LAYERS = 2\n",
    "DROPOUT = 0.2\n",
    "LEARNING_RATE = 0.001\n",
    "EPOCHS = 100\n",
    "torch.cuda.is_available()"
   ]
  },
  {
   "cell_type": "code",
   "execution_count": 5,
   "id": "d69eef10",
   "metadata": {
    "tags": []
   },
   "outputs": [],
   "source": [
    "model = DecoderOnlyLM(\n",
    "    vocab_size=10000,\n",
    "    d_model=EMBEDD_DIM,\n",
    "    nhead=4,\n",
    "    num_layers=NUM_LAYERS,\n",
    "    dropout=DROPOUT\n",
    ").to(\"cuda\")"
   ]
  },
  {
   "cell_type": "code",
   "execution_count": 4,
   "id": "335b712a",
   "metadata": {
    "tags": []
   },
   "outputs": [],
   "source": [
    "def train_model(model=None, name=None):\n",
    "    \"\"\"\n",
    "    Training the model.\n",
    "    \"\"\"\n",
    "\n",
    "    device = torch.device('mps' if torch.backends.mps.is_available() else 'cuda' if torch.cuda.is_available() else 'cpu')\n",
    "    print(f\"Using device: {device}\")\n",
    "    # Load the tokenizer\n",
    "    tokenizer = spm.SentencePieceProcessor(model_file='bpe_tokenizer.model')\n",
    "    vocab_size = tokenizer.get_piece_size()\n",
    "\n",
    "    # Load the dataset\n",
    "    train_dataset = TextDataset(TRAIN_FILE, tokenizer, MAX_SEQ_LEN)\n",
    "    val_dataset = TextDataset(VAL_FILE, tokenizer, MAX_SEQ_LEN)\n",
    "\n",
    "    # Create DataLoader\n",
    "    train_loader = DataLoader(train_dataset, batch_size=BATCH_SIZE, shuffle=True, collate_fn=collate_fn)\n",
    "    val_loader = DataLoader(val_dataset, batch_size=BATCH_SIZE, shuffle=False, collate_fn=collate_fn)\n",
    "\n",
    "    model = model.to(device)\n",
    "\n",
    "    optimizer = optim.AdamW(model.parameters(), lr=LEARNING_RATE)\n",
    "    # optimizer = optim.AdamW(model.parameters(), lr=LEARNING_RATE, weight_decay=1e-2)\n",
    "\n",
    "    scheduler = optim.lr_scheduler.ReduceLROnPlateau(optimizer, \"min\", patience=1, factor=0.5, verbose=True)\n",
    "    criterion = nn.CrossEntropyLoss(ignore_index=3)  # Ignore padding index\n",
    "\n",
    "    best_val_loss = float('inf')\n",
    "    no_improve_epochs = 0\n",
    "    train_losses, val_losses = [], []\n",
    "\n",
    "    for epoch in range(EPOCHS):\n",
    "        model.train()\n",
    "        total_train_loss = 0\n",
    "\n",
    "        for input_ids, target_ids in train_loader:\n",
    "            input_ids, target_ids = input_ids.to(device), target_ids.to(device)\n",
    "\n",
    "            optimizer.zero_grad()\n",
    "            logits, _ = model(input_ids)\n",
    "\n",
    "            loss = criterion(logits.view(-1, vocab_size), target_ids.view(-1))\n",
    "            loss.backward()\n",
    "            optimizer.step()\n",
    "\n",
    "            total_train_loss += loss.item()\n",
    "\n",
    "        avg_train_loss = total_train_loss / len(train_loader)\n",
    "        train_losses.append(avg_train_loss)\n",
    "        print(f\"Epoch {epoch + 1}/{EPOCHS}, Train Loss: {avg_train_loss:.4f}\")\n",
    "\n",
    "        # Validation\n",
    "        model.eval()\n",
    "        total_val_loss = 0\n",
    "        with torch.no_grad():\n",
    "            for input_ids, target_ids in val_loader:\n",
    "                input_ids, target_ids = input_ids.to(device), target_ids.to(device)\n",
    "\n",
    "                logits, _ = model(input_ids)\n",
    "                loss = criterion(logits.view(-1, vocab_size), target_ids.view(-1))\n",
    "                total_val_loss += loss.item()\n",
    "        avg_val_loss = total_val_loss / len(val_loader)\n",
    "        val_losses.append(avg_val_loss)\n",
    "        print(f\"Epoch {epoch + 1}/{EPOCHS}, Validation Loss: {avg_val_loss:.4f}\")\n",
    "        scheduler.step(avg_val_loss)\n",
    "        # Early stopping\n",
    "        if avg_val_loss < best_val_loss:\n",
    "            best_val_loss = avg_val_loss\n",
    "            no_improve_epochs = 0\n",
    "            torch.save(model.state_dict(), f\"best_models/pth/best_model_{name}.pth\")\n",
    "            print(\"Model saved.\")\n",
    "        else:\n",
    "            no_improve_epochs += 1\n",
    "            if no_improve_epochs >= 3:\n",
    "                print(\"Early stopping triggered.\")\n",
    "                break\n",
    "    print(\"Training complete.\")\n",
    "    return train_losses, val_losses"
   ]
  },
  {
   "cell_type": "code",
   "execution_count": 5,
   "id": "9932c36d",
   "metadata": {
    "tags": []
   },
   "outputs": [
    {
     "name": "stdout",
     "output_type": "stream",
     "text": [
      "Using device: cuda\n"
     ]
    },
    {
     "name": "stderr",
     "output_type": "stream",
     "text": [
      "/home/madrez/.conda/envs/fai/lib/python3.10/site-packages/torch/optim/lr_scheduler.py:62: UserWarning: The verbose parameter is deprecated. Please use get_last_lr() to access the learning rate.\n",
      "  warnings.warn(\n"
     ]
    },
    {
     "name": "stdout",
     "output_type": "stream",
     "text": [
      "Epoch 1/100, Train Loss: 5.9735\n",
      "Epoch 1/100, Validation Loss: 5.3896\n",
      "Model saved.\n",
      "Epoch 2/100, Train Loss: 5.3299\n",
      "Epoch 2/100, Validation Loss: 5.1237\n",
      "Model saved.\n",
      "Epoch 3/100, Train Loss: 5.1322\n",
      "Epoch 3/100, Validation Loss: 4.9881\n",
      "Model saved.\n",
      "Epoch 4/100, Train Loss: 5.0117\n",
      "Epoch 4/100, Validation Loss: 4.8910\n",
      "Model saved.\n",
      "Epoch 5/100, Train Loss: 4.9246\n",
      "Epoch 5/100, Validation Loss: 4.8289\n",
      "Model saved.\n",
      "Epoch 6/100, Train Loss: 4.8569\n",
      "Epoch 6/100, Validation Loss: 4.7811\n",
      "Model saved.\n",
      "Epoch 7/100, Train Loss: 4.8034\n",
      "Epoch 7/100, Validation Loss: 4.7461\n",
      "Model saved.\n",
      "Epoch 8/100, Train Loss: 4.7587\n",
      "Epoch 8/100, Validation Loss: 4.7093\n",
      "Model saved.\n",
      "Epoch 9/100, Train Loss: 4.7204\n",
      "Epoch 9/100, Validation Loss: 4.6872\n",
      "Model saved.\n",
      "Epoch 10/100, Train Loss: 4.6869\n",
      "Epoch 10/100, Validation Loss: 4.6635\n",
      "Model saved.\n",
      "Epoch 11/100, Train Loss: 4.6567\n",
      "Epoch 11/100, Validation Loss: 4.6457\n",
      "Model saved.\n",
      "Epoch 12/100, Train Loss: 4.6304\n",
      "Epoch 12/100, Validation Loss: 4.6275\n",
      "Model saved.\n",
      "Epoch 13/100, Train Loss: 4.6073\n",
      "Epoch 13/100, Validation Loss: 4.6129\n",
      "Model saved.\n",
      "Epoch 14/100, Train Loss: 4.5838\n",
      "Epoch 14/100, Validation Loss: 4.6006\n",
      "Model saved.\n",
      "Epoch 15/100, Train Loss: 4.5634\n",
      "Epoch 15/100, Validation Loss: 4.5894\n",
      "Model saved.\n",
      "Epoch 16/100, Train Loss: 4.5450\n",
      "Epoch 16/100, Validation Loss: 4.5774\n",
      "Model saved.\n",
      "Epoch 17/100, Train Loss: 4.5276\n",
      "Epoch 17/100, Validation Loss: 4.5667\n",
      "Model saved.\n",
      "Epoch 18/100, Train Loss: 4.5113\n",
      "Epoch 18/100, Validation Loss: 4.5580\n",
      "Model saved.\n",
      "Epoch 19/100, Train Loss: 4.4967\n",
      "Epoch 19/100, Validation Loss: 4.5488\n",
      "Model saved.\n",
      "Epoch 20/100, Train Loss: 4.4810\n",
      "Epoch 20/100, Validation Loss: 4.5434\n",
      "Model saved.\n",
      "Epoch 21/100, Train Loss: 4.4680\n",
      "Epoch 21/100, Validation Loss: 4.5354\n",
      "Model saved.\n",
      "Epoch 22/100, Train Loss: 4.4553\n",
      "Epoch 22/100, Validation Loss: 4.5260\n",
      "Model saved.\n",
      "Epoch 23/100, Train Loss: 4.4426\n",
      "Epoch 23/100, Validation Loss: 4.5232\n",
      "Model saved.\n",
      "Epoch 24/100, Train Loss: 4.4318\n",
      "Epoch 24/100, Validation Loss: 4.5131\n",
      "Model saved.\n",
      "Epoch 25/100, Train Loss: 4.4201\n",
      "Epoch 25/100, Validation Loss: 4.5085\n",
      "Model saved.\n",
      "Epoch 26/100, Train Loss: 4.4097\n",
      "Epoch 26/100, Validation Loss: 4.5015\n",
      "Model saved.\n",
      "Epoch 27/100, Train Loss: 4.3990\n",
      "Epoch 27/100, Validation Loss: 4.4971\n",
      "Model saved.\n",
      "Epoch 28/100, Train Loss: 4.3888\n",
      "Epoch 28/100, Validation Loss: 4.4912\n",
      "Model saved.\n",
      "Epoch 29/100, Train Loss: 4.3789\n",
      "Epoch 29/100, Validation Loss: 4.4863\n",
      "Model saved.\n",
      "Epoch 30/100, Train Loss: 4.3700\n",
      "Epoch 30/100, Validation Loss: 4.4858\n",
      "Model saved.\n",
      "Epoch 31/100, Train Loss: 4.3613\n",
      "Epoch 31/100, Validation Loss: 4.4775\n",
      "Model saved.\n",
      "Epoch 32/100, Train Loss: 4.3528\n",
      "Epoch 32/100, Validation Loss: 4.4707\n",
      "Model saved.\n",
      "Epoch 33/100, Train Loss: 4.3441\n",
      "Epoch 33/100, Validation Loss: 4.4680\n",
      "Model saved.\n",
      "Epoch 34/100, Train Loss: 4.3354\n",
      "Epoch 34/100, Validation Loss: 4.4639\n",
      "Model saved.\n",
      "Epoch 35/100, Train Loss: 4.3291\n",
      "Epoch 35/100, Validation Loss: 4.4612\n",
      "Model saved.\n",
      "Epoch 36/100, Train Loss: 4.3218\n",
      "Epoch 36/100, Validation Loss: 4.4606\n",
      "Model saved.\n",
      "Epoch 37/100, Train Loss: 4.3132\n",
      "Epoch 37/100, Validation Loss: 4.4565\n",
      "Model saved.\n",
      "Epoch 38/100, Train Loss: 4.3064\n",
      "Epoch 38/100, Validation Loss: 4.4519\n",
      "Model saved.\n",
      "Epoch 39/100, Train Loss: 4.2997\n",
      "Epoch 39/100, Validation Loss: 4.4436\n",
      "Model saved.\n",
      "Epoch 40/100, Train Loss: 4.2921\n",
      "Epoch 40/100, Validation Loss: 4.4421\n",
      "Model saved.\n",
      "Epoch 41/100, Train Loss: 4.2860\n",
      "Epoch 41/100, Validation Loss: 4.4424\n",
      "Epoch 42/100, Train Loss: 4.2800\n",
      "Epoch 42/100, Validation Loss: 4.4381\n",
      "Model saved.\n",
      "Epoch 43/100, Train Loss: 4.2732\n",
      "Epoch 43/100, Validation Loss: 4.4368\n",
      "Model saved.\n",
      "Epoch 44/100, Train Loss: 4.2672\n",
      "Epoch 44/100, Validation Loss: 4.4354\n",
      "Model saved.\n",
      "Epoch 45/100, Train Loss: 4.2616\n",
      "Epoch 45/100, Validation Loss: 4.4305\n",
      "Model saved.\n",
      "Epoch 46/100, Train Loss: 4.2560\n",
      "Epoch 46/100, Validation Loss: 4.4260\n",
      "Model saved.\n",
      "Epoch 47/100, Train Loss: 4.2512\n",
      "Epoch 47/100, Validation Loss: 4.4277\n",
      "Epoch 48/100, Train Loss: 4.2445\n",
      "Epoch 48/100, Validation Loss: 4.4257\n",
      "Model saved.\n",
      "Epoch 49/100, Train Loss: 4.1961\n",
      "Epoch 49/100, Validation Loss: 4.4090\n",
      "Model saved.\n",
      "Epoch 50/100, Train Loss: 4.1856\n",
      "Epoch 50/100, Validation Loss: 4.4067\n",
      "Model saved.\n",
      "Epoch 51/100, Train Loss: 4.1800\n",
      "Epoch 51/100, Validation Loss: 4.4053\n",
      "Model saved.\n",
      "Epoch 52/100, Train Loss: 4.1754\n",
      "Epoch 52/100, Validation Loss: 4.4032\n",
      "Model saved.\n",
      "Epoch 53/100, Train Loss: 4.1708\n",
      "Epoch 53/100, Validation Loss: 4.4038\n",
      "Epoch 54/100, Train Loss: 4.1678\n",
      "Epoch 54/100, Validation Loss: 4.4032\n",
      "Model saved.\n",
      "Epoch 55/100, Train Loss: 4.1417\n",
      "Epoch 55/100, Validation Loss: 4.3965\n",
      "Model saved.\n",
      "Epoch 56/100, Train Loss: 4.1361\n",
      "Epoch 56/100, Validation Loss: 4.3954\n",
      "Model saved.\n",
      "Epoch 57/100, Train Loss: 4.1326\n",
      "Epoch 57/100, Validation Loss: 4.3985\n",
      "Epoch 58/100, Train Loss: 4.1300\n",
      "Epoch 58/100, Validation Loss: 4.3963\n",
      "Epoch 59/100, Train Loss: 4.1158\n",
      "Epoch 59/100, Validation Loss: 4.3932\n",
      "Model saved.\n",
      "Epoch 60/100, Train Loss: 4.1135\n",
      "Epoch 60/100, Validation Loss: 4.3939\n",
      "Epoch 61/100, Train Loss: 4.1116\n",
      "Epoch 61/100, Validation Loss: 4.3928\n",
      "Model saved.\n",
      "Epoch 62/100, Train Loss: 4.1046\n",
      "Epoch 62/100, Validation Loss: 4.3927\n",
      "Model saved.\n",
      "Epoch 63/100, Train Loss: 4.1016\n",
      "Epoch 63/100, Validation Loss: 4.3923\n",
      "Model saved.\n",
      "Epoch 64/100, Train Loss: 4.1023\n",
      "Epoch 64/100, Validation Loss: 4.3936\n",
      "Epoch 65/100, Train Loss: 4.0970\n",
      "Epoch 65/100, Validation Loss: 4.3922\n",
      "Model saved.\n",
      "Epoch 66/100, Train Loss: 4.0967\n",
      "Epoch 66/100, Validation Loss: 4.3927\n",
      "Epoch 67/100, Train Loss: 4.0966\n",
      "Epoch 67/100, Validation Loss: 4.3924\n",
      "Epoch 68/100, Train Loss: 4.0939\n",
      "Epoch 68/100, Validation Loss: 4.3930\n",
      "Early stopping triggered.\n",
      "Training complete.\n"
     ]
    }
   ],
   "source": [
    "train_losses, val_losses = train_model(\n",
    "    model,\n",
    "    model._get_name()\n",
    ")"
   ]
  },
  {
   "cell_type": "code",
   "execution_count": 6,
   "id": "fbfad564",
   "metadata": {
    "tags": []
   },
   "outputs": [
    {
     "data": {
      "image/png": "[encoded data removed]",
      "text/plain": [
       "<Figure size 640x480 with 1 Axes>"
      ]
     },
     "metadata": {},
     "output_type": "display_data"
    }
   ],
   "source": [
    "import matplotlib.pyplot as plt\n",
    "plt.plot(train_losses, label='Train Loss')\n",
    "plt.plot(val_losses, label='Validation Loss')\n",
    "plt.xlabel('Epochs')\n",
    "plt.ylabel('Loss')\n",
    "plt.title(f'Losses for {model._get_name()}')\n",
    "plt.legend()\n",
    "plt.savefig(f\"losses_{model._get_name()}.png\")\n",
    "plt.show()"
   ]
  },
  {
   "cell_type": "code",
   "execution_count": 7,
   "id": "bbdcbc17-1f2d-4ba8-b955-9a9215b69ada",
   "metadata": {
    "tags": []
   },
   "outputs": [],
   "source": [
    "# save losses\n",
    "import json\n",
    "with open(f\"losses_{model._get_name()}.json\", \"w\") as f:\n",
    "    json.dump({\"train\": train_losses, \"val\": val_losses}, f)"
   ]
  },
  {
   "cell_type": "code",
   "execution_count": 6,
   "id": "77229f32-3118-4db9-bf04-016e2079da41",
   "metadata": {},
   "outputs": [
    {
     "data": {
      "text/plain": [
       "DecoderOnlyLM(\n",
       "  (embedding): Embedding(10000, 256)\n",
       "  (positional_encoding): PositionalEncoding(\n",
       "    (dropout): Dropout(p=0.2, inplace=False)\n",
       "  )\n",
       "  (transformer): TransformerEncoder(\n",
       "    (layers): ModuleList(\n",
       "      (0-1): 2 x TransformerEncoderLayer(\n",
       "        (self_attn): MultiheadAttention(\n",
       "          (out_proj): NonDynamicallyQuantizableLinear(in_features=256, out_features=256, bias=True)\n",
       "        )\n",
       "        (linear1): Linear(in_features=256, out_features=1024, bias=True)\n",
       "        (dropout): Dropout(p=0.2, inplace=False)\n",
       "        (linear2): Linear(in_features=1024, out_features=256, bias=True)\n",
       "        (norm1): LayerNorm((256,), eps=1e-05, elementwise_affine=True)\n",
       "        (norm2): LayerNorm((256,), eps=1e-05, elementwise_affine=True)\n",
       "        (dropout1): Dropout(p=0.2, inplace=False)\n",
       "        (dropout2): Dropout(p=0.2, inplace=False)\n",
       "      )\n",
       "    )\n",
       "  )\n",
       "  (fc_out): Linear(in_features=256, out_features=10000, bias=True)\n",
       ")"
      ]
     },
     "execution_count": 6,
     "metadata": {},
     "output_type": "execute_result"
    }
   ],
   "source": [
    "model.load_state_dict(torch.load(\"best_models/pth/best_model_DecoderOnlyLM.pth\"))\n",
    "device=\"cuda\"\n",
    "model.to(device)\n",
    "model.eval()"
   ]
  },
  {
   "cell_type": "code",
   "execution_count": 8,
   "id": "f0477c8c-45d3-4b1a-8a75-781b83be85c8",
   "metadata": {
    "tags": []
   },
   "outputs": [
    {
     "data": {
      "text/plain": [
       "'Come through the window of the corridor. Under this wall, which makes one may be carried well ahead. M. Leblanc answered: ChteauRenaud,you will be well, said Beauchamp, you shall be the son of an old man. He is'"
      ]
     },
     "execution_count": 8,
     "metadata": {},
     "output_type": "execute_result"
    }
   ],
   "source": [
    "import sentencepiece as spm\n",
    "TOKENIZER_PATH = \"bpe_tokenizer.model\"\n",
    "tokenizer = spm.SentencePieceProcessor(model_file=TOKENIZER_PATH)\n",
    "prompt = \"Which do you prefer? Dogs or cats?\"\n",
    "model.generate(tokenizer, prompt, device=\"cuda\")"
   ]
  },
  {
   "cell_type": "code",
   "execution_count": 9,
   "id": "a7dcf28a-5ee8-4bc5-aa95-05bf06dae431",
   "metadata": {
    "tags": []
   },
   "outputs": [
    {
     "data": {
      "text/plain": [
       "'Fanelles. Prince Vasli, now let them end this hall door, and smiling and was distinctly closed with the breath of a sigh of sobs. Ah, my dear, Snya, think she must have gone for him,'"
      ]
     },
     "execution_count": 9,
     "metadata": {},
     "output_type": "execute_result"
    }
   ],
   "source": [
    "prompt = \"Once upon a time...\"\n",
    "model.generate(tokenizer, prompt, device=\"cuda\")"
   ]
  },
  {
   "cell_type": "code",
   "execution_count": 10,
   "id": "78943859-8b4a-4f8e-b0b5-d50cbc0ef98c",
   "metadata": {},
   "outputs": [
    {
     "name": "stderr",
     "output_type": "stream",
     "text": [
      "Calculating Perplexity: 100%|██████████| 310/310 [00:01<00:00, 213.47it/s]\n",
      "Calculating BLEU: 100%|██████████| 1000/1000 [00:59<00:00, 16.87it/s]"
     ]
    },
    {
     "name": "stdout",
     "output_type": "stream",
     "text": [
      "\n",
      "Test Perplexity: 80.1308\n",
      "Average BLEU Score (1000 samples): 0.0075\n"
     ]
    },
    {
     "name": "stderr",
     "output_type": "stream",
     "text": [
      "\n"
     ]
    }
   ],
   "source": [
    "from dataset import TextDataset\n",
    "from utils import collate_fn\n",
    "from torch.utils.data import DataLoader\n",
    "from tqdm import tqdm\n",
    "\n",
    "MAX_SEQ_LEN = 128\n",
    "BATCH_SIZE = 128\n",
    "\n",
    "val_dataset = TextDataset(VAL_FILE, tokenizer, MAX_SEQ_LEN)\n",
    "val_loader = DataLoader(val_dataset, batch_size=BATCH_SIZE, shuffle=False, collate_fn=collate_fn)\n",
    "\n",
    "\n",
    "\n",
    "from nltk.translate.bleu_score import sentence_bleu, SmoothingFunction\n",
    "from tqdm import tqdm\n",
    "\n",
    "import math\n",
    "criterion = nn.CrossEntropyLoss(ignore_index=3)\n",
    "vocab_size = 10000\n",
    "device=\"cuda\"\n",
    "def evaluate_ppl(model, data_loader, criterion, vocab_size):\n",
    "    model.eval()\n",
    "    total_loss = 0\n",
    "    with torch.no_grad():\n",
    "        for inputs, targets in tqdm(data_loader, desc=\"Calculating Perplexity\"):\n",
    "            inputs, targets = inputs.to(device), targets.to(device)\n",
    "            outputs, _ = model(inputs)\n",
    "            outputs = outputs.view(-1, vocab_size)\n",
    "            targets = targets.view(-1)\n",
    "            loss = criterion(outputs, targets)\n",
    "            total_loss += loss.item()\n",
    "    avg_loss = total_loss / len(data_loader)\n",
    "    ppl = math.exp(avg_loss)\n",
    "    return ppl\n",
    "\n",
    "def evaluate_bleu(model, dataset, sp, num_samples=1000):\n",
    "    model.eval()\n",
    "    smoothie = SmoothingFunction().method4\n",
    "    scores = []\n",
    "\n",
    "    for i in tqdm(range(min(len(dataset), num_samples)), desc=\"Calculating BLEU\"):\n",
    "        full_text = dataset.data[i]\n",
    "        # full_text = dataset.samples[i]\n",
    "        prompt = full_text[:50]\n",
    "        reference = full_text[50:100]\n",
    "        generated_text = model.generate(tokenizer, prompt, device=\"cuda\")\n",
    "\n",
    "        # Compare generated text to the actual continuation\n",
    "        score = sentence_bleu(\n",
    "            [reference.split()],\n",
    "            generated_text.split(),\n",
    "            smoothing_function=smoothie\n",
    "        )\n",
    "        scores.append(score)\n",
    "\n",
    "    return sum(scores) / len(scores)\n",
    "# Evaluate on test set\n",
    "test_loader = DataLoader(val_dataset, batch_size=32, shuffle=False, collate_fn=collate_fn)\n",
    "ppl = evaluate_ppl(model, test_loader, criterion, vocab_size)\n",
    "bleu = evaluate_bleu(model, val_dataset, tokenizer)\n",
    "\n",
    "print(f\"\\nTest Perplexity: {ppl:.4f}\")\n",
    "print(f\"Average BLEU Score (1000 samples): {bleu:.4f}\")"
   ]
  },
  {
   "cell_type": "code",
   "execution_count": null,
   "id": "b8dc9e60-7bdc-4d39-8c72-f8c9963031a4",
   "metadata": {},
   "outputs": [],
   "source": []
  }
 ],
 "metadata": {
  "kernelspec": {
   "display_name": "[Conda VE] .conda-fai",
   "language": "python",
   "name": "conda-env-.conda-fai-py"
  },
  "language_info": {
   "codemirror_mode": {
    "name": "ipython",
    "version": 3
   },
   "file_extension": ".py",
   "mimetype": "text/x-python",
   "name": "python",
   "nbconvert_exporter": "python",
   "pygments_lexer": "ipython3",
   "version": "3.10.17"
  }
 },
 "nbformat": 4,
 "nbformat_minor": 5
}
