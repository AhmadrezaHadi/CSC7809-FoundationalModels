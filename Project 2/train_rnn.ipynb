{
 "cells": [
  {
   "cell_type": "code",
   "execution_count": 1,
   "id": "0c7869a8",
   "metadata": {
    "tags": []
   },
   "outputs": [],
   "source": [
    "from dataset import TextDataset\n",
    "from rnn import RNNModel\n",
    "from tokenizer import merge_text_files\n",
    "from utils import add_special_tokens, collate_fn\n",
    "import torch\n",
    "import torch.nn as nn\n",
    "import torch.optim as optim\n",
    "from torch.utils.data import DataLoader\n",
    "import sentencepiece as spm\n"
   ]
  },
  {
   "cell_type": "code",
   "execution_count": 2,
   "id": "1684c8c0",
   "metadata": {
    "tags": []
   },
   "outputs": [],
   "source": [
    "TOKENIZER_PATH = \"bpe_tokenizer.model\"\n",
    "TRAIN_FILE = \"data/train.jsonl\"\n",
    "VAL_FILE = \"data/test.jsonl\"\n",
    "MAX_SEQ_LEN = 128\n",
    "BATCH_SIZE = 128\n",
    "EMBEDD_DIM = 256\n",
    "HIDDEN_DIM = 768\n",
    "NUM_LAYERS = 2\n",
    "DROPOUT = 0.2\n",
    "LEARNING_RATE = 0.001\n",
    "EPOCHS = 100\n"
   ]
  },
  {
   "cell_type": "code",
   "execution_count": 3,
   "id": "b46cf2c0",
   "metadata": {
    "tags": []
   },
   "outputs": [],
   "source": [
    "model = RNNModel(\n",
    "    vocab_size=10000,\n",
    "    embedding_dim=EMBEDD_DIM,\n",
    "    hidden_dim=HIDDEN_DIM,\n",
    "    num_layers=NUM_LAYERS,\n",
    "    dropout=DROPOUT,\n",
    ")"
   ]
  },
  {
   "cell_type": "code",
   "execution_count": 4,
   "id": "7eb62dfa",
   "metadata": {
    "tags": []
   },
   "outputs": [],
   "source": [
    "def train_model(model=None, name=None):\n",
    "    \"\"\"\n",
    "    Training the model.\n",
    "    \"\"\"\n",
    "\n",
    "    device = torch.device('mps' if torch.backends.mps.is_available() else 'cuda' if torch.cuda.is_available() else 'cpu')\n",
    "    print(f\"Using device: {device}\")\n",
    "    # Load the tokenizer\n",
    "    tokenizer = spm.SentencePieceProcessor(model_file='bpe_tokenizer.model')\n",
    "    vocab_size = tokenizer.get_piece_size()\n",
    "\n",
    "    # Load the dataset\n",
    "    train_dataset = TextDataset(TRAIN_FILE, tokenizer, MAX_SEQ_LEN)\n",
    "    val_dataset = TextDataset(VAL_FILE, tokenizer, MAX_SEQ_LEN)\n",
    "\n",
    "    # Create DataLoader\n",
    "    train_loader = DataLoader(train_dataset, batch_size=BATCH_SIZE, shuffle=True, collate_fn=collate_fn)\n",
    "    val_loader = DataLoader(val_dataset, batch_size=BATCH_SIZE, shuffle=False, collate_fn=collate_fn)\n",
    "\n",
    "\n",
    "    model = model.to(device)\n",
    "\n",
    "    optimizer = optim.AdamW(model.parameters(), lr=LEARNING_RATE)\n",
    "    # optimizer = optim.AdamW(model.parameters(), lr=LEARNING_RATE, weight_decay=1e-4)\n",
    "\n",
    "    scheduler = optim.lr_scheduler.ReduceLROnPlateau(optimizer, \"min\", patience=1, factor=0.5, verbose=True)\n",
    "    criterion = nn.CrossEntropyLoss(ignore_index=3)  # Ignore padding index\n",
    "\n",
    "    best_val_loss = float('inf')\n",
    "    no_improve_epochs = 0\n",
    "    train_losses, val_losses = [], []\n",
    "\n",
    "    for epoch in range(EPOCHS):\n",
    "        model.train()\n",
    "        total_train_loss = 0\n",
    "\n",
    "        for input_ids, target_ids in train_loader:\n",
    "            input_ids, target_ids = input_ids.to(device), target_ids.to(device)\n",
    "\n",
    "            optimizer.zero_grad()\n",
    "\n",
    "            logits, _ = model(input_ids)\n",
    "            loss = criterion(logits.view(-1, vocab_size), target_ids.view(-1))\n",
    "            loss.backward()\n",
    "            optimizer.step()\n",
    "\n",
    "            total_train_loss += loss.item()\n",
    "\n",
    "        avg_train_loss = total_train_loss / len(train_loader)\n",
    "        train_losses.append(avg_train_loss)\n",
    "        print(f\"Epoch {epoch + 1}/{EPOCHS}, Train Loss: {avg_train_loss:.4f}\")\n",
    "\n",
    "        # Validation\n",
    "        model.eval()\n",
    "        total_val_loss = 0\n",
    "        with torch.no_grad():\n",
    "            for input_ids, target_ids in val_loader:\n",
    "                input_ids, target_ids = input_ids.to(device), target_ids.to(device)\n",
    "\n",
    "\n",
    "                logits, _ = model(input_ids)\n",
    "                loss = criterion(logits.view(-1, vocab_size), target_ids.view(-1))\n",
    "                total_val_loss += loss.item()\n",
    "        avg_val_loss = total_val_loss / len(val_loader)\n",
    "        val_losses.append(avg_val_loss)\n",
    "        print(f\"Epoch {epoch + 1}/{EPOCHS}, Validation Loss: {avg_val_loss:.4f}\")\n",
    "        scheduler.step(avg_val_loss)\n",
    "        # Early stopping\n",
    "        if avg_val_loss < best_val_loss:\n",
    "            best_val_loss = avg_val_loss\n",
    "            no_improve_epochs = 0\n",
    "            torch.save(model.state_dict(), f\"best_models/pth/best_model_{name}.pth\")\n",
    "            print(\"Model saved.\")\n",
    "        else:\n",
    "            no_improve_epochs += 1\n",
    "            if no_improve_epochs >= 4:\n",
    "                print(\"Early stopping triggered.\")\n",
    "                break\n",
    "    print(\"Training complete.\")\n",
    "    return train_losses, val_losses\n"
   ]
  },
  {
   "cell_type": "code",
   "execution_count": 5,
   "id": "b214cff9",
   "metadata": {
    "tags": []
   },
   "outputs": [
    {
     "name": "stdout",
     "output_type": "stream",
     "text": [
      "Using device: cuda\n"
     ]
    },
    {
     "name": "stderr",
     "output_type": "stream",
     "text": [
      "/home/madrez/.conda/envs/fai/lib/python3.10/site-packages/torch/optim/lr_scheduler.py:62: UserWarning: The verbose parameter is deprecated. Please use get_last_lr() to access the learning rate.\n",
      "  warnings.warn(\n"
     ]
    },
    {
     "name": "stdout",
     "output_type": "stream",
     "text": [
      "Epoch 1/100, Train Loss: 6.4640\n",
      "Epoch 1/100, Validation Loss: 5.8828\n",
      "Model saved.\n",
      "Epoch 2/100, Train Loss: 5.6285\n",
      "Epoch 2/100, Validation Loss: 5.4189\n",
      "Model saved.\n",
      "Epoch 3/100, Train Loss: 5.2764\n",
      "Epoch 3/100, Validation Loss: 5.1453\n",
      "Model saved.\n",
      "Epoch 4/100, Train Loss: 5.0252\n",
      "Epoch 4/100, Validation Loss: 4.9758\n",
      "Model saved.\n",
      "Epoch 5/100, Train Loss: 4.8485\n",
      "Epoch 5/100, Validation Loss: 4.8741\n",
      "Model saved.\n",
      "Epoch 6/100, Train Loss: 4.7093\n",
      "Epoch 6/100, Validation Loss: 4.8101\n",
      "Model saved.\n",
      "Epoch 7/100, Train Loss: 4.6072\n",
      "Epoch 7/100, Validation Loss: 4.7814\n",
      "Model saved.\n",
      "Epoch 8/100, Train Loss: 4.5153\n",
      "Epoch 8/100, Validation Loss: 4.7455\n",
      "Model saved.\n",
      "Epoch 9/100, Train Loss: 4.4328\n",
      "Epoch 9/100, Validation Loss: 4.7299\n",
      "Model saved.\n",
      "Epoch 10/100, Train Loss: 4.3646\n",
      "Epoch 10/100, Validation Loss: 4.7223\n",
      "Model saved.\n",
      "Epoch 11/100, Train Loss: 4.3080\n",
      "Epoch 11/100, Validation Loss: 4.7142\n",
      "Model saved.\n",
      "Epoch 12/100, Train Loss: 4.2514\n",
      "Epoch 12/100, Validation Loss: 4.7162\n",
      "Epoch 13/100, Train Loss: 4.2062\n",
      "Epoch 13/100, Validation Loss: 4.7201\n",
      "Epoch 14/100, Train Loss: 4.0604\n",
      "Epoch 14/100, Validation Loss: 4.6717\n",
      "Model saved.\n",
      "Epoch 15/100, Train Loss: 4.0184\n",
      "Epoch 15/100, Validation Loss: 4.6739\n",
      "Epoch 16/100, Train Loss: 3.9915\n",
      "Epoch 16/100, Validation Loss: 4.6824\n",
      "Epoch 17/100, Train Loss: 3.9121\n",
      "Epoch 17/100, Validation Loss: 4.6611\n",
      "Model saved.\n",
      "Epoch 18/100, Train Loss: 3.8889\n",
      "Epoch 18/100, Validation Loss: 4.6624\n",
      "Epoch 19/100, Train Loss: 3.8741\n",
      "Epoch 19/100, Validation Loss: 4.6651\n",
      "Epoch 20/100, Train Loss: 3.8312\n",
      "Epoch 20/100, Validation Loss: 4.6593\n",
      "Model saved.\n",
      "Epoch 21/100, Train Loss: 3.8210\n",
      "Epoch 21/100, Validation Loss: 4.6594\n",
      "Epoch 22/100, Train Loss: 3.8124\n",
      "Epoch 22/100, Validation Loss: 4.6616\n",
      "Epoch 23/100, Train Loss: 3.7904\n",
      "Epoch 23/100, Validation Loss: 4.6587\n",
      "Model saved.\n",
      "Epoch 24/100, Train Loss: 3.7846\n",
      "Epoch 24/100, Validation Loss: 4.6591\n",
      "Epoch 25/100, Train Loss: 3.7807\n",
      "Epoch 25/100, Validation Loss: 4.6603\n",
      "Epoch 26/100, Train Loss: 3.7691\n",
      "Epoch 26/100, Validation Loss: 4.6595\n",
      "Epoch 27/100, Train Loss: 3.7666\n",
      "Epoch 27/100, Validation Loss: 4.6600\n",
      "Early stopping triggered.\n",
      "Training complete.\n"
     ]
    }
   ],
   "source": [
    "train_losses, val_losses = train_model(model, model._get_name())"
   ]
  },
  {
   "cell_type": "code",
   "execution_count": 6,
   "id": "adf2a511",
   "metadata": {
    "tags": []
   },
   "outputs": [
    {
     "data": {
      "image/png": "[encoded data removed]",
      "text/plain": [
       "<Figure size 640x480 with 1 Axes>"
      ]
     },
     "metadata": {},
     "output_type": "display_data"
    }
   ],
   "source": [
    "import matplotlib.pyplot as plt\n",
    "plt.plot(train_losses, label='Train Loss')\n",
    "plt.plot(val_losses, label='Validation Loss')\n",
    "plt.xlabel('Epochs')\n",
    "plt.ylabel('Loss')\n",
    "plt.title(f'Losses for {model._get_name()}')\n",
    "plt.legend()\n",
    "plt.savefig(f\"best_models/img/losses_{model._get_name()}.png\")\n",
    "plt.show()"
   ]
  },
  {
   "cell_type": "code",
   "execution_count": 7,
   "id": "db41b5e7",
   "metadata": {
    "tags": []
   },
   "outputs": [],
   "source": [
    "# save losses\n",
    "import json\n",
    "with open(f\"best_models/loss/losses_{model._get_name()}.json\", \"w\") as f:\n",
    "    json.dump({\"train\": train_losses, \"val\": val_losses}, f)"
   ]
  },
  {
   "cell_type": "code",
   "execution_count": 4,
   "id": "e10e816e-ad2b-4517-a1b3-15d799d20f63",
   "metadata": {
    "tags": []
   },
   "outputs": [
    {
     "data": {
      "text/plain": [
       "RNNModel(\n",
       "  (embedding): Embedding(10000, 256, padding_idx=0)\n",
       "  (rnn): RNN(256, 768, num_layers=2, batch_first=True, dropout=0.2)\n",
       "  (fc): Linear(in_features=768, out_features=10000, bias=True)\n",
       ")"
      ]
     },
     "execution_count": 4,
     "metadata": {},
     "output_type": "execute_result"
    }
   ],
   "source": [
    "model.load_state_dict(torch.load(\"best_models/pth/best_model_RNNModel.pth\"))\n",
    "device=\"cuda\"\n",
    "model.to(device)\n",
    "model.eval()"
   ]
  },
  {
   "cell_type": "code",
   "execution_count": 5,
   "id": "3618ed0d-12e7-4b4d-b0ac-cdfdedc005a7",
   "metadata": {
    "tags": []
   },
   "outputs": [
    {
     "data": {
      "text/plain": [
       "'Which do you prefer? Dogs or cats? retorted Silver. Say what is there to strife were blamed, I am sure, it is right, said the Tin Woodman; the name was now. And I thought that if I had been struggling with his two friends, Vesoy,'"
      ]
     },
     "execution_count": 5,
     "metadata": {},
     "output_type": "execute_result"
    }
   ],
   "source": [
    "import sentencepiece as spm\n",
    "TOKENIZER_PATH = \"bpe_tokenizer.model\"\n",
    "tokenizer = spm.SentencePieceProcessor(model_file=TOKENIZER_PATH)\n",
    "prompt = \"Which do you prefer? Dogs or cats?\"\n",
    "model.generate(tokenizer, prompt, device=\"cuda\")"
   ]
  },
  {
   "cell_type": "code",
   "execution_count": 11,
   "id": "9876f075-7194-4bf0-9d3e-c6a395f3102a",
   "metadata": {
    "tags": []
   },
   "outputs": [
    {
     "data": {
      "text/plain": [
       "'Once upon a time... scarcely do yourself, the locksmith had been spreading with the brilliant sunshine. Presently she is just now round my queer form. At present, she added, you are only an orphan to makeanywherescewills? My son was a'"
      ]
     },
     "execution_count": 11,
     "metadata": {},
     "output_type": "execute_result"
    }
   ],
   "source": [
    "prompt = \"Once upon a time...\"\n",
    "model.generate(tokenizer, prompt, device=\"cuda\")"
   ]
  },
  {
   "cell_type": "code",
   "execution_count": 12,
   "id": "0be52b54-bcc2-4e7d-8286-d9c4e913aad8",
   "metadata": {
    "tags": []
   },
   "outputs": [
    {
     "name": "stderr",
     "output_type": "stream",
     "text": [
      "Calculating Perplexity: 100%|██████████| 310/310 [00:02<00:00, 133.59it/s]\n",
      "Calculating BLEU: 100%|██████████| 1000/1000 [00:19<00:00, 50.45it/s]"
     ]
    },
    {
     "name": "stdout",
     "output_type": "stream",
     "text": [
      "\n",
      "Test Perplexity: 105.5257\n",
      "Average BLEU Score (1000 samples): 0.0073\n"
     ]
    },
    {
     "name": "stderr",
     "output_type": "stream",
     "text": [
      "\n"
     ]
    }
   ],
   "source": [
    "from dataset import TextDataset\n",
    "from utils import collate_fn\n",
    "from torch.utils.data import DataLoader\n",
    "from tqdm import tqdm\n",
    "\n",
    "MAX_SEQ_LEN = 128\n",
    "BATCH_SIZE = 128\n",
    "\n",
    "val_dataset = TextDataset(VAL_FILE, tokenizer, MAX_SEQ_LEN)\n",
    "val_loader = DataLoader(val_dataset, batch_size=BATCH_SIZE, shuffle=False, collate_fn=collate_fn)\n",
    "\n",
    "\n",
    "\n",
    "from nltk.translate.bleu_score import sentence_bleu, SmoothingFunction\n",
    "from tqdm import tqdm\n",
    "\n",
    "import math\n",
    "criterion = nn.CrossEntropyLoss(ignore_index=3)\n",
    "vocab_size = 10000\n",
    "device=\"cuda\"\n",
    "def evaluate_ppl(model, data_loader, criterion, vocab_size):\n",
    "    model.eval()\n",
    "    total_loss = 0\n",
    "    with torch.no_grad():\n",
    "        for inputs, targets in tqdm(data_loader, desc=\"Calculating Perplexity\"):\n",
    "            inputs, targets = inputs.to(device), targets.to(device)\n",
    "            outputs, _ = model(inputs)\n",
    "            outputs = outputs.view(-1, vocab_size)\n",
    "            targets = targets.view(-1)\n",
    "            loss = criterion(outputs, targets)\n",
    "            total_loss += loss.item()\n",
    "    avg_loss = total_loss / len(data_loader)\n",
    "    ppl = math.exp(avg_loss)\n",
    "    return ppl\n",
    "\n",
    "def evaluate_bleu(model, dataset, sp, num_samples=1000):\n",
    "    model.eval()\n",
    "    smoothie = SmoothingFunction().method4\n",
    "    scores = []\n",
    "\n",
    "    for i in tqdm(range(min(len(dataset), num_samples)), desc=\"Calculating BLEU\"):\n",
    "        full_text = dataset.data[i]\n",
    "        # full_text = dataset.samples[i]\n",
    "        prompt = full_text[:50]\n",
    "        reference = full_text[50:100]\n",
    "        generated_text = model.generate(tokenizer, prompt, device=\"cuda\")\n",
    "\n",
    "        # Compare generated text to the actual continuation\n",
    "        score = sentence_bleu(\n",
    "            [reference.split()],\n",
    "            generated_text.split(),\n",
    "            smoothing_function=smoothie\n",
    "        )\n",
    "        scores.append(score)\n",
    "\n",
    "    return sum(scores) / len(scores)\n",
    "# Evaluate on test set\n",
    "test_loader = DataLoader(val_dataset, batch_size=32, shuffle=False, collate_fn=collate_fn)\n",
    "ppl = evaluate_ppl(model, test_loader, criterion, vocab_size)\n",
    "bleu = evaluate_bleu(model, val_dataset, tokenizer)\n",
    "\n",
    "print(f\"\\nTest Perplexity: {ppl:.4f}\")\n",
    "print(f\"Average BLEU Score (1000 samples): {bleu:.4f}\")"
   ]
  }
 ],
 "metadata": {
  "kernelspec": {
   "display_name": "[Conda VE] .conda-fai",
   "language": "python",
   "name": "conda-env-.conda-fai-py"
  },
  "language_info": {
   "codemirror_mode": {
    "name": "ipython",
    "version": 3
   },
   "file_extension": ".py",
   "mimetype": "text/x-python",
   "name": "python",
   "nbconvert_exporter": "python",
   "pygments_lexer": "ipython3",
   "version": "3.10.17"
  }
 },
 "nbformat": 4,
 "nbformat_minor": 5
}
